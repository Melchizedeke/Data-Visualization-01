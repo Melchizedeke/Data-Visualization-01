{
 "cells": [
  {
   "attachments": {},
   "cell_type": "markdown",
   "metadata": {},
   "source": [
    "# ANALYSIS FOR GIRLS' BLOCK\n",
    "The blocks are named B, C, D with numbers between 1-9.\n",
    "The first data is the one for the number of occupants from 2020/2021 to 2023/2024 academic session.\n",
    "The dataframe essentially is meant to have the following columns:\n",
    "* Year : the academic session\n",
    "* Occupied : number of bed spaces occupied\n",
    "* Unoccupied : the number of bed spaces unoccupied "
   ]
  },
  {
   "cell_type": "code",
   "execution_count": 2,
   "metadata": {},
   "outputs": [],
   "source": [
    "# Essential libraries import\n",
    "import pandas as pd\n",
    "import numpy as np\n",
    "import matplotlib.pyplot as plt\n",
    "import seaborn as sns\n",
    "sns.set()\n",
    "%matplotlib inline"
   ]
  },
  {
   "cell_type": "code",
   "execution_count": 1,
   "metadata": {},
   "outputs": [],
   "source": [
    "# Data Dictionary\n",
    "girls_data = {'Year': ['2020/2021', '2021/2022', '2022/2023', '2023/2024'],\n",
    "        'Occupied': [88, 126, 152, 94],\n",
    "        'Unoccupied':[188-88, 188-126, 188-152, 188-94]}"
   ]
  },
  {
   "cell_type": "code",
   "execution_count": 3,
   "metadata": {},
   "outputs": [],
   "source": [
    "# Converting the dictionary to a dataframe\n",
    "girls_df = pd.DataFrame(girls_data)"
   ]
  },
  {
   "cell_type": "code",
   "execution_count": 4,
   "metadata": {},
   "outputs": [
    {
     "data": {
      "text/html": [
       "<div><div id=664a628c-6f8e-4d3a-9c60-aa14b2d4b4c9 style=\"display:none; background-color:#9D6CFF; color:white; width:200px; height:30px; padding-left:5px; border-radius:4px; flex-direction:row; justify-content:space-around; align-items:center;\" onmouseover=\"this.style.backgroundColor='#BA9BF8'\" onmouseout=\"this.style.backgroundColor='#9D6CFF'\" onclick=\"window.commands?.execute('create-mitosheet-from-dataframe-output');\">See Full Dataframe in Mito</div> <script> if (window.commands?.hasCommand('create-mitosheet-from-dataframe-output')) document.getElementById('664a628c-6f8e-4d3a-9c60-aa14b2d4b4c9').style.display = 'flex' </script> <table border=\"1\" class=\"dataframe\">\n",
       "  <thead>\n",
       "    <tr style=\"text-align: right;\">\n",
       "      <th></th>\n",
       "      <th>Year</th>\n",
       "      <th>Occupied</th>\n",
       "      <th>Unoccupied</th>\n",
       "    </tr>\n",
       "  </thead>\n",
       "  <tbody>\n",
       "    <tr>\n",
       "      <th>0</th>\n",
       "      <td>2020/2021</td>\n",
       "      <td>88</td>\n",
       "      <td>100</td>\n",
       "    </tr>\n",
       "    <tr>\n",
       "      <th>1</th>\n",
       "      <td>2021/2022</td>\n",
       "      <td>126</td>\n",
       "      <td>62</td>\n",
       "    </tr>\n",
       "    <tr>\n",
       "      <th>2</th>\n",
       "      <td>2022/2023</td>\n",
       "      <td>152</td>\n",
       "      <td>36</td>\n",
       "    </tr>\n",
       "    <tr>\n",
       "      <th>3</th>\n",
       "      <td>2023/2024</td>\n",
       "      <td>94</td>\n",
       "      <td>94</td>\n",
       "    </tr>\n",
       "  </tbody>\n",
       "</table></div>"
      ],
      "text/plain": [
       "        Year  Occupied  Unoccupied\n",
       "0  2020/2021        88         100\n",
       "1  2021/2022       126          62\n",
       "2  2022/2023       152          36\n",
       "3  2023/2024        94          94"
      ]
     },
     "execution_count": 4,
     "metadata": {},
     "output_type": "execute_result"
    }
   ],
   "source": [
    "# Viewing the dataframe top five rows\n",
    "girls_df.head()"
   ]
  },
  {
   "attachments": {},
   "cell_type": "markdown",
   "metadata": {},
   "source": [
    "### Plotting the data above"
   ]
  },
  {
   "cell_type": "code",
   "execution_count": 6,
   "metadata": {},
   "outputs": [
    {
     "data": {
      "text/plain": [
       "<matplotlib.legend.Legend at 0x20bd13f65b0>"
      ]
     },
     "execution_count": 6,
     "metadata": {},
     "output_type": "execute_result"
    },
    {
     "data": {
      "image/png": "[encoded data removed]",
      "text/plain": [
       "<Figure size 1080x504 with 1 Axes>"
      ]
     },
     "metadata": {
      "needs_background": "light"
     },
     "output_type": "display_data"
    }
   ],
   "source": [
    "# Setting the plot size\n",
    "plt.figure(figsize=(15,7))\n",
    "\n",
    "# The data\n",
    "categories = girls_df['Year']\n",
    "group1 = girls_df['Occupied']\n",
    "group2 = girls_df['Unoccupied']\n",
    "\n",
    "# Define the positions for the bars\n",
    "x = range(len(categories))\n",
    "width = 0.4\n",
    "\n",
    "# Creating the grouped bar chart\n",
    "plt.bar(x, group1, width=width, label='Occupied')\n",
    "plt.bar([i + width for i in x], group2, width=width, label='Unoccupied')\n",
    "\n",
    "# Adding quantity text\n",
    "for i, val in enumerate(group1):\n",
    "    plt.text(i, val + 0.2, str(val), ha='center', va='bottom', fontsize=14)\n",
    "\n",
    "for i, val in enumerate(group2):\n",
    "    plt.text(i + width, val + 0.2, str(val), ha='center', va='bottom', fontsize=14)\n",
    "\n",
    "# Setting labels, title and font size\n",
    "plt.xlabel('Session', fontsize=14)\n",
    "plt.ylabel('Number of Bed spaces', fontsize=14)\n",
    "plt.xticks([i + width/2 for i in x], categories)\n",
    "plt.title('Plot for Beds Spaces Occupied as Compared to the Unoccupied', fontsize=14)\n",
    "\n",
    "# Manually creating legend\n",
    "plt.legend(['Occupied', 'Unoccupied'], loc='upper right', fontsize=14)\n"
   ]
  },
  {
   "attachments": {},
   "cell_type": "markdown",
   "metadata": {},
   "source": [
    "# Python Functions\n",
    "I will be creating fuctions to help reuse codes and maintain the DRY (Don't Repeat Yourself) principle for coding.\n",
    "Two functions will be created\n",
    "* The one for plotting called 'plotter'\n",
    "* The one for getting aggregate statistics per block"
   ]
  },
  {
   "cell_type": "code",
   "execution_count": 8,
   "metadata": {},
   "outputs": [],
   "source": [
    "# Plotter function\n",
    "def plotter(df, name, gender):\n",
    "    plt.figure(figsize=(15,7))\n",
    "\n",
    "    # Defining and structuring data\n",
    "    categories = df['Room']\n",
    "    values1 = df['Available']\n",
    "    values2 = df['Occupied']\n",
    "    values3 = df['Unoccupied']\n",
    "\n",
    "    # Defining the positions for the bars of the barplot\n",
    "    x = range(len(categories))\n",
    "    width = 0.2\n",
    "\n",
    "    # Creating the bar plots\n",
    "    plt.bar(x, values1, width=width, label=df_B.columns[1])\n",
    "    plt.bar([i + width for i in x], values2, width=width, label=df_B.columns[2])\n",
    "    plt.bar([i + 2*width for i in x], values3, width=width, label=df_B.columns[3])\n",
    "\n",
    "    # Adding numbers on top of the bars\n",
    "    for i, val in enumerate(values1):\n",
    "        plt.text(i, val + 0.2, str(val), ha='center', va='bottom', fontsize=14)\n",
    "\n",
    "    for i, val in enumerate(values2):\n",
    "        plt.text(i + width, val + 0.2, str(val), ha='center', va='bottom', fontsize=14)\n",
    "\n",
    "    for i, val in enumerate(values3):\n",
    "        plt.text(i + 2*width, val + 0.2, str(val), ha='center', va='bottom', fontsize=14)\n",
    "\n",
    "    # Setting the labels, title and fontsize\n",
    "    plt.xlabel('Rooms', fontsize=14)\n",
    "    plt.ylabel('Bed Spaces', fontsize=14)\n",
    "    plt.yticks(fontsize=14)\n",
    "    plt.xticks([i + width for i in x], categories, fontsize=14)\n",
    "    plt.title(f'Bar Plot of Bed spaces in Block {name} {gender} hostel', fontsize=14)\n",
    "\n",
    "    # Adding a legend\n",
    "    plt.legend(fontsize=14)"
   ]
  },
  {
   "cell_type": "code",
   "execution_count": 9,
   "metadata": {},
   "outputs": [],
   "source": [
    "# Quick Aggregate Statistics function\n",
    "def stats(df):\n",
    "    avail = np.sum(df['Available'])\n",
    "    occ = np.sum(df['Occupied'])\n",
    "    unocc = np.sum(df['Unoccupied'])\n",
    "    return ([avail, occ, unocc])"
   ]
  },
  {
   "attachments": {},
   "cell_type": "markdown",
   "metadata": {},
   "source": [
    "### BLOCK B"
   ]
  },
  {
   "cell_type": "code",
   "execution_count": 11,
   "metadata": {},
   "outputs": [],
   "source": [
    "# Data dictionary\n",
    "block_B = {'Room': ['B1', 'B2', 'B3', 'B4', 'B5', 'B6', 'B7', 'B8', 'B9'],\n",
    "        'Available': [10, 10, 4, 0, 3, 4, 4, 4, 7],\n",
    "        'Occupied': [7, 6, 4, 0, 2, 3, 1, 3, 0],\n",
    "        'Unoccupied':[3, 4, 0, 0, 1, 1, 3, 1, 0]}"
   ]
  },
  {
   "cell_type": "code",
   "execution_count": 13,
   "metadata": {},
   "outputs": [],
   "source": [
    "# Convering the dictionary to a dataframe\n",
    "df_B = pd.DataFrame(block_B)"
   ]
  },
  {
   "cell_type": "code",
   "execution_count": 14,
   "metadata": {},
   "outputs": [
    {
     "data": {
      "text/html": [
       "<div><div id=445d7d1d-be06-4cfc-b156-2e55e780d4f7 style=\"display:none; background-color:#9D6CFF; color:white; width:200px; height:30px; padding-left:5px; border-radius:4px; flex-direction:row; justify-content:space-around; align-items:center;\" onmouseover=\"this.style.backgroundColor='#BA9BF8'\" onmouseout=\"this.style.backgroundColor='#9D6CFF'\" onclick=\"window.commands?.execute('create-mitosheet-from-dataframe-output');\">See Full Dataframe in Mito</div> <script> if (window.commands?.hasCommand('create-mitosheet-from-dataframe-output')) document.getElementById('445d7d1d-be06-4cfc-b156-2e55e780d4f7').style.display = 'flex' </script> <table border=\"1\" class=\"dataframe\">\n",
       "  <thead>\n",
       "    <tr style=\"text-align: right;\">\n",
       "      <th></th>\n",
       "      <th>Room</th>\n",
       "      <th>Available</th>\n",
       "      <th>Occupied</th>\n",
       "      <th>Unoccupied</th>\n",
       "    </tr>\n",
       "  </thead>\n",
       "  <tbody>\n",
       "    <tr>\n",
       "      <th>0</th>\n",
       "      <td>B1</td>\n",
       "      <td>10</td>\n",
       "      <td>7</td>\n",
       "      <td>3</td>\n",
       "    </tr>\n",
       "    <tr>\n",
       "      <th>1</th>\n",
       "      <td>B2</td>\n",
       "      <td>10</td>\n",
       "      <td>6</td>\n",
       "      <td>4</td>\n",
       "    </tr>\n",
       "    <tr>\n",
       "      <th>2</th>\n",
       "      <td>B3</td>\n",
       "      <td>4</td>\n",
       "      <td>4</td>\n",
       "      <td>0</td>\n",
       "    </tr>\n",
       "    <tr>\n",
       "      <th>3</th>\n",
       "      <td>B4</td>\n",
       "      <td>0</td>\n",
       "      <td>0</td>\n",
       "      <td>0</td>\n",
       "    </tr>\n",
       "    <tr>\n",
       "      <th>4</th>\n",
       "      <td>B5</td>\n",
       "      <td>3</td>\n",
       "      <td>2</td>\n",
       "      <td>1</td>\n",
       "    </tr>\n",
       "  </tbody>\n",
       "</table></div>"
      ],
      "text/plain": [
       "  Room  Available  Occupied  Unoccupied\n",
       "0   B1         10         7           3\n",
       "1   B2         10         6           4\n",
       "2   B3          4         4           0\n",
       "3   B4          0         0           0\n",
       "4   B5          3         2           1"
      ]
     },
     "execution_count": 14,
     "metadata": {},
     "output_type": "execute_result"
    }
   ],
   "source": [
    "# Viewing the top five rows\n",
    "df_B.head()"
   ]
  },
  {
   "cell_type": "code",
   "execution_count": 15,
   "metadata": {},
   "outputs": [
    {
     "data": {
      "image/png": "[encoded data removed]",
      "text/plain": [
       "<Figure size 1080x504 with 1 Axes>"
      ]
     },
     "metadata": {
      "needs_background": "light"
     },
     "output_type": "display_data"
    }
   ],
   "source": [
    "# Grouped bar plot for Block B\n",
    "plotter(df_B, 'B', 'female')"
   ]
  },
  {
   "cell_type": "code",
   "execution_count": null,
   "metadata": {},
   "outputs": [],
   "source": []
  }
 ],
 "metadata": {
  "kernelspec": {
   "display_name": "base",
   "language": "python",
   "name": "python3"
  },
  "language_info": {
   "codemirror_mode": {
    "name": "ipython",
    "version": 3
   },
   "file_extension": ".py",
   "mimetype": "text/x-python",
   "name": "python",
   "nbconvert_exporter": "python",
   "pygments_lexer": "ipython3",
   "version": "3.8.8"
  },
  "orig_nbformat": 4,
  "vscode": {
   "interpreter": {
    "hash": "6ba0883ef75f55eb59f522291f23a06941ace09d33bfcca46f462b483956d544"
   }
  }
 },
 "nbformat": 4,
 "nbformat_minor": 2
}
