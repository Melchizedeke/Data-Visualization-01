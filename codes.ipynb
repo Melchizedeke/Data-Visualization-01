{
 "cells": [
  {
   "attachments": {},
   "cell_type": "markdown",
   "metadata": {},
   "source": [
    "# ANALYSIS FOR GIRLS' BLOCK\n",
    "The blocks are named B, C, D with numbers between 1-9.\n",
    "The first data is the one for the number of occupants from 2020/2021 to 2023/2024 academic session.\n",
    "The dataframe essentially is meant to have the following columns:\n",
    "* Year : the academic session\n",
    "* Occupied : number of bed spaces occupied\n",
    "* Unoccupied : the number of bed spaces unoccupied "
   ]
  },
  {
   "cell_type": "code",
   "execution_count": null,
   "metadata": {},
   "outputs": [],
   "source": [
    "# Data Dictionary\n",
    "girls_data = {'Year': ['2020/2021', '2021/2022', '2022/2023', '2023/2024'],\n",
    "        'Occupied': [88, 126, 152, 94],\n",
    "        'Unoccupied':[188-88, 188-126, 188-152, 188-94]}"
   ]
  },
  {
   "cell_type": "code",
   "execution_count": null,
   "metadata": {},
   "outputs": [],
   "source": []
  }
 ],
 "metadata": {
  "kernelspec": {
   "display_name": "base",
   "language": "python",
   "name": "python3"
  },
  "language_info": {
   "name": "python",
   "version": "3.8.8 (default, Apr 13 2021, 15:08:03) [MSC v.1916 64 bit (AMD64)]"
  },
  "orig_nbformat": 4,
  "vscode": {
   "interpreter": {
    "hash": "6ba0883ef75f55eb59f522291f23a06941ace09d33bfcca46f462b483956d544"
   }
  }
 },
 "nbformat": 4,
 "nbformat_minor": 2
}
